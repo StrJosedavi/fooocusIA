{
 "cells": [
  {
   "cell_type": "code",
   "execution_count": null,
   "metadata": {
    "id": "VjYy0F2gZIPR"
   },
   "outputs": [
    {
     "name": "stdout",
     "output_type": "stream",
     "text": [
      "Collecting pygit2==1.15.1\n",
      "  Using cached pygit2-1.15.1.tar.gz (768 kB)\n",
      "  Installing build dependencies: started\n",
      "  Installing build dependencies: finished with status 'done'\n",
      "  Getting requirements to build wheel: started\n",
      "  Getting requirements to build wheel: finished with status 'done'\n",
      "  Installing backend dependencies: started\n",
      "  Installing backend dependencies: finished with status 'done'\n",
      "  Preparing metadata (pyproject.toml): started\n",
      "  Preparing metadata (pyproject.toml): finished with status 'done'\n",
      "Collecting cffi>=1.16.0 (from pygit2==1.15.1)\n",
      "  Using cached cffi-1.17.1-cp313-cp313-win_amd64.whl.metadata (1.6 kB)\n",
      "Collecting pycparser (from cffi>=1.16.0->pygit2==1.15.1)\n",
      "  Using cached pycparser-2.22-py3-none-any.whl.metadata (943 bytes)\n",
      "Using cached cffi-1.17.1-cp313-cp313-win_amd64.whl (182 kB)\n",
      "Using cached pycparser-2.22-py3-none-any.whl (117 kB)\n",
      "Building wheels for collected packages: pygit2\n",
      "  Building wheel for pygit2 (pyproject.toml): started\n",
      "  Building wheel for pygit2 (pyproject.toml): finished with status 'error'\n",
      "Failed to build pygit2\n",
      "[WinError 2] O sistema não pode encontrar o arquivo especificado: '/content'\n",
      "c:\\Users\\DaviF\\Desktop\\fooocusIA\n"
     ]
    },
    {
     "name": "stderr",
     "output_type": "stream",
     "text": [
      "  error: subprocess-exited-with-error\n",
      "  \n",
      "  × Building wheel for pygit2 (pyproject.toml) did not run successfully.\n",
      "  │ exit code: 1\n",
      "  ╰─> [63 lines of output]\n",
      "      running bdist_wheel\n",
      "      running build\n",
      "      running build_py\n",
      "      creating build\\lib.win-amd64-cpython-313\\pygit2\n",
      "      copying pygit2\\blame.py -> build\\lib.win-amd64-cpython-313\\pygit2\n",
      "      copying pygit2\\blob.py -> build\\lib.win-amd64-cpython-313\\pygit2\n",
      "      copying pygit2\\branches.py -> build\\lib.win-amd64-cpython-313\\pygit2\n",
      "      copying pygit2\\callbacks.py -> build\\lib.win-amd64-cpython-313\\pygit2\n",
      "      copying pygit2\\config.py -> build\\lib.win-amd64-cpython-313\\pygit2\n",
      "      copying pygit2\\credentials.py -> build\\lib.win-amd64-cpython-313\\pygit2\n",
      "      copying pygit2\\enums.py -> build\\lib.win-amd64-cpython-313\\pygit2\n",
      "      copying pygit2\\errors.py -> build\\lib.win-amd64-cpython-313\\pygit2\n",
      "      copying pygit2\\ffi.py -> build\\lib.win-amd64-cpython-313\\pygit2\n",
      "      copying pygit2\\filter.py -> build\\lib.win-amd64-cpython-313\\pygit2\n",
      "      copying pygit2\\index.py -> build\\lib.win-amd64-cpython-313\\pygit2\n",
      "      copying pygit2\\legacyenums.py -> build\\lib.win-amd64-cpython-313\\pygit2\n",
      "      copying pygit2\\packbuilder.py -> build\\lib.win-amd64-cpython-313\\pygit2\n",
      "      copying pygit2\\references.py -> build\\lib.win-amd64-cpython-313\\pygit2\n",
      "      copying pygit2\\refspec.py -> build\\lib.win-amd64-cpython-313\\pygit2\n",
      "      copying pygit2\\remotes.py -> build\\lib.win-amd64-cpython-313\\pygit2\n",
      "      copying pygit2\\repository.py -> build\\lib.win-amd64-cpython-313\\pygit2\n",
      "      copying pygit2\\settings.py -> build\\lib.win-amd64-cpython-313\\pygit2\n",
      "      copying pygit2\\submodules.py -> build\\lib.win-amd64-cpython-313\\pygit2\n",
      "      copying pygit2\\utils.py -> build\\lib.win-amd64-cpython-313\\pygit2\n",
      "      copying pygit2\\_build.py -> build\\lib.win-amd64-cpython-313\\pygit2\n",
      "      copying pygit2\\_run.py -> build\\lib.win-amd64-cpython-313\\pygit2\n",
      "      copying pygit2\\__init__.py -> build\\lib.win-amd64-cpython-313\\pygit2\n",
      "      copying pygit2\\_pygit2.pyi -> build\\lib.win-amd64-cpython-313\\pygit2\n",
      "      creating build\\lib.win-amd64-cpython-313\\pygit2\\decl\n",
      "      copying pygit2\\decl\\attr.h -> build\\lib.win-amd64-cpython-313\\pygit2\\decl\n",
      "      copying pygit2\\decl\\blame.h -> build\\lib.win-amd64-cpython-313\\pygit2\\decl\n",
      "      copying pygit2\\decl\\buffer.h -> build\\lib.win-amd64-cpython-313\\pygit2\\decl\n",
      "      copying pygit2\\decl\\callbacks.h -> build\\lib.win-amd64-cpython-313\\pygit2\\decl\n",
      "      copying pygit2\\decl\\checkout.h -> build\\lib.win-amd64-cpython-313\\pygit2\\decl\n",
      "      copying pygit2\\decl\\clone.h -> build\\lib.win-amd64-cpython-313\\pygit2\\decl\n",
      "      copying pygit2\\decl\\commit.h -> build\\lib.win-amd64-cpython-313\\pygit2\\decl\n",
      "      copying pygit2\\decl\\common.h -> build\\lib.win-amd64-cpython-313\\pygit2\\decl\n",
      "      copying pygit2\\decl\\config.h -> build\\lib.win-amd64-cpython-313\\pygit2\\decl\n",
      "      copying pygit2\\decl\\describe.h -> build\\lib.win-amd64-cpython-313\\pygit2\\decl\n",
      "      copying pygit2\\decl\\diff.h -> build\\lib.win-amd64-cpython-313\\pygit2\\decl\n",
      "      copying pygit2\\decl\\errors.h -> build\\lib.win-amd64-cpython-313\\pygit2\\decl\n",
      "      copying pygit2\\decl\\graph.h -> build\\lib.win-amd64-cpython-313\\pygit2\\decl\n",
      "      copying pygit2\\decl\\index.h -> build\\lib.win-amd64-cpython-313\\pygit2\\decl\n",
      "      copying pygit2\\decl\\indexer.h -> build\\lib.win-amd64-cpython-313\\pygit2\\decl\n",
      "      copying pygit2\\decl\\merge.h -> build\\lib.win-amd64-cpython-313\\pygit2\\decl\n",
      "      copying pygit2\\decl\\net.h -> build\\lib.win-amd64-cpython-313\\pygit2\\decl\n",
      "      copying pygit2\\decl\\oid.h -> build\\lib.win-amd64-cpython-313\\pygit2\\decl\n",
      "      copying pygit2\\decl\\pack.h -> build\\lib.win-amd64-cpython-313\\pygit2\\decl\n",
      "      copying pygit2\\decl\\proxy.h -> build\\lib.win-amd64-cpython-313\\pygit2\\decl\n",
      "      copying pygit2\\decl\\refspec.h -> build\\lib.win-amd64-cpython-313\\pygit2\\decl\n",
      "      copying pygit2\\decl\\remote.h -> build\\lib.win-amd64-cpython-313\\pygit2\\decl\n",
      "      copying pygit2\\decl\\repository.h -> build\\lib.win-amd64-cpython-313\\pygit2\\decl\n",
      "      copying pygit2\\decl\\revert.h -> build\\lib.win-amd64-cpython-313\\pygit2\\decl\n",
      "      copying pygit2\\decl\\stash.h -> build\\lib.win-amd64-cpython-313\\pygit2\\decl\n",
      "      copying pygit2\\decl\\strarray.h -> build\\lib.win-amd64-cpython-313\\pygit2\\decl\n",
      "      copying pygit2\\decl\\submodule.h -> build\\lib.win-amd64-cpython-313\\pygit2\\decl\n",
      "      copying pygit2\\decl\\transport.h -> build\\lib.win-amd64-cpython-313\\pygit2\\decl\n",
      "      copying pygit2\\decl\\types.h -> build\\lib.win-amd64-cpython-313\\pygit2\\decl\n",
      "      running build_ext\n",
      "      generating cffi module 'build\\\\temp.win-amd64-cpython-313\\\\Release\\\\pygit2._libgit2.c'\n",
      "      creating build\\temp.win-amd64-cpython-313\\Release\n",
      "      building 'pygit2._pygit2' extension\n",
      "      error: Microsoft Visual C++ 14.0 or greater is required. Get it with \"Microsoft C++ Build Tools\": https://visualstudio.microsoft.com/visual-cpp-build-tools/\n",
      "      [end of output]\n",
      "  \n",
      "  note: This error originates from a subprocess, and is likely not a problem with pip.\n",
      "  ERROR: Failed building wheel for pygit2\n",
      "ERROR: Failed to build installable wheels for some pyproject.toml based projects (pygit2)\n"
     ]
    },
    {
     "name": "stdout",
     "output_type": "stream",
     "text": [
      "[WinError 3] O sistema não pode encontrar o caminho especificado: '/content/Fooocus'\n",
      "c:\\Users\\DaviF\\Desktop\\fooocusIA\n"
     ]
    },
    {
     "name": "stderr",
     "output_type": "stream",
     "text": [
      "fatal: destination path 'fooocusIA' already exists and is not an empty directory.\n"
     ]
    },
    {
     "name": "stdout",
     "output_type": "stream",
     "text": [
      "Update failed.\n",
      "No module named 'pygit2'\n",
      "Update succeeded.\n",
      "[System ARGV] ['entry_with_update.py', '--share', '--always-high-vram']\n",
      "Python 3.13.2 (tags/v3.13.2:4f8bb39, Feb  4 2025, 15:23:48) [MSC v.1942 64 bit (AMD64)]\n",
      "Fooocus version: 2.5.5\n",
      "Error checking version for torchsde: No package metadata was found for torchsde\n",
      "Installing requirements\n",
      "Couldn't install requirements.\n",
      "Command: \"c:\\Users\\DaviF\\AppData\\Local\\Programs\\Python\\Python313\\python.exe\" -m pip install -r \"requirements_versions.txt\" --prefer-binary\n",
      "Error code: 1\n",
      "stdout: Collecting torchsde==0.2.6 (from -r requirements_versions.txt (line 1))\n",
      "  Downloading torchsde-0.2.6-py3-none-any.whl.metadata (5.3 kB)\n",
      "Collecting einops==0.8.0 (from -r requirements_versions.txt (line 2))\n",
      "  Downloading einops-0.8.0-py3-none-any.whl.metadata (12 kB)\n",
      "Collecting transformers==4.42.4 (from -r requirements_versions.txt (line 3))\n",
      "  Downloading transformers-4.42.4-py3-none-any.whl.metadata (43 kB)\n",
      "Collecting safetensors==0.4.3 (from -r requirements_versions.txt (line 4))\n",
      "  Downloading safetensors-0.4.3.tar.gz (69 kB)\n",
      "  Installing build dependencies: started\n",
      "  Installing build dependencies: finished with status 'done'\n",
      "  Getting requirements to build wheel: started\n",
      "  Getting requirements to build wheel: finished with status 'done'\n",
      "  Preparing metadata (pyproject.toml): started\n",
      "  Preparing metadata (pyproject.toml): finished with status 'error'\n",
      "\n",
      "stderr:   error: subprocess-exited-with-error\n",
      "  \n",
      "  × Preparing metadata (pyproject.toml) did not run successfully.\n",
      "  │ exit code: 1\n",
      "  ╰─> [6 lines of output]\n",
      "      Checking for Rust toolchain....\n",
      "      \n",
      "      Cargo, the Rust package manager, is not installed or is not on PATH.\n",
      "      This package requires Rust and Cargo to compile extensions. Install it through\n",
      "      the system's package manager or via https://rustup.rs/\n",
      "      \n",
      "      [end of output]\n",
      "  \n",
      "  note: This error originates from a subprocess, and is likely not a problem with pip.\n",
      "error: metadata-generation-failed\n",
      "\n",
      "× Encountered error while generating package metadata.\n",
      "╰─> See above for output.\n",
      "\n",
      "note: This is an issue with the package mentioned above, not pip.\n",
      "hint: See above for details.\n",
      "\n",
      "CMD Failed requirements: install -r \"requirements_versions.txt\"\n"
     ]
    },
    {
     "name": "stderr",
     "output_type": "stream",
     "text": [
      "Traceback (most recent call last):\n",
      "  File \u001b[35m\"c:\\Users\\DaviF\\Desktop\\fooocusIA\\entry_with_update.py\"\u001b[0m, line \u001b[35m46\u001b[0m, in \u001b[35m<module>\u001b[0m\n",
      "    from launch import *\n",
      "  File \u001b[35m\"c:\\Users\\DaviF\\Desktop\\fooocusIA\\launch.py\"\u001b[0m, line \u001b[35m88\u001b[0m, in \u001b[35m<module>\u001b[0m\n",
      "    from modules.hash_cache import init_cache\n",
      "  File \u001b[35m\"c:\\Users\\DaviF\\Desktop\\fooocusIA\\modules\\hash_cache.py\"\u001b[0m, line \u001b[35m7\u001b[0m, in \u001b[35m<module>\u001b[0m\n",
      "    from modules.util import sha256, HASH_SHA256_LENGTH, get_file_from_folder_list\n",
      "  File \u001b[35m\"c:\\Users\\DaviF\\Desktop\\fooocusIA\\modules\\util.py\"\u001b[0m, line \u001b[35m8\u001b[0m, in \u001b[35m<module>\u001b[0m\n",
      "    import cv2\n",
      "\u001b[1;35mModuleNotFoundError\u001b[0m: \u001b[35mNo module named 'cv2'\u001b[0m\n"
     ]
    }
   ],
   "source": [
    "!pip install pygit2==1.15.1\n",
    "%cd /content\n",
    "!git clone https://github.com/StrJosedavi/fooocusIA.git\n",
    "%cd /content/fooocusIA\n",
    "!python entry_with_update.py --share --always-high-vram --language pt-br"
   ]
  }
 ],
 "metadata": {
  "accelerator": "GPU",
  "colab": {
   "gpuType": "T4",
   "provenance": []
  },
  "kernelspec": {
   "display_name": "Python 3",
   "name": "python3"
  },
  "language_info": {
   "codemirror_mode": {
    "name": "ipython",
    "version": 3
   },
   "file_extension": ".py",
   "mimetype": "text/x-python",
   "name": "python",
   "nbconvert_exporter": "python",
   "pygments_lexer": "ipython3",
   "version": "3.13.2"
  }
 },
 "nbformat": 4,
 "nbformat_minor": 0
}
